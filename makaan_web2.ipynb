{
  "nbformat": 4,
  "nbformat_minor": 0,
  "metadata": {
    "colab": {
      "name": "makaan_web2.ipynb",
      "provenance": [],
      "collapsed_sections": [],
      "authorship_tag": "ABX9TyPxBybO2Uu2yycJCXJsQLxF",
      "include_colab_link": true
    },
    "kernelspec": {
      "name": "python3",
      "display_name": "Python 3"
    },
    "language_info": {
      "name": "python"
    }
  },
  "cells": [
    {
      "cell_type": "markdown",
      "metadata": {
        "id": "view-in-github",
        "colab_type": "text"
      },
      "source": [
        "<a href=\"https://colab.research.google.com/github/Bhagyeshkasar/makaan_web2/blob/main/makaan_web2.ipynb\" target=\"_parent\"><img src=\"https://colab.research.google.com/assets/colab-badge.svg\" alt=\"Open In Colab\"/></a>"
      ]
    },
    {
      "cell_type": "code",
      "metadata": {
        "id": "yHv6zPVWRgs3"
      },
      "source": [
        "import requests\n",
        "from bs4 import BeautifulSoup\n",
        "import pandas as pd\n",
        "import time\n",
        "from IPython.display import clear_output"
      ],
      "execution_count": null,
      "outputs": []
    },
    {
      "cell_type": "code",
      "metadata": {
        "id": "Ru6Vxm9zRixq"
      },
      "source": [
        "base_url = 'https://www.makaan.com/mumbai-residential-property/buy-property-in-mumbai-city?page='      #multiple pages\n",
        "own_info = []          #owner info\n",
        "b_info = []            #bhk info\n",
        "loc_info = []          #locality info\n",
        "con_info = []          #construction status info\n",
        "area_info = []         #area sqft info\n",
        "price_info = []        #price info\n",
        "rate_psqft = []        #rate per square feet\n"
      ],
      "execution_count": null,
      "outputs": []
    },
    {
      "cell_type": "code",
      "metadata": {
        "colab": {
          "base_uri": "https://localhost:8080/"
        },
        "id": "60nA5h6FRizu",
        "outputId": "f4a2d87a-e8b6-467a-a802-a5393ba6b444"
      },
      "source": [
        "for i in range(1,51):\n",
        "  time.sleep(3)\n",
        "\n",
        "  print(f'Going to scrap data from page {i} ' )\n",
        "  clear_output(wait='True')\n",
        "  url = base_url + str(i) + '&_=1624462763795'\n",
        "  req = requests.get(url)\n",
        "  soup = BeautifulSoup(req.text,'html')"
      ],
      "execution_count": null,
      "outputs": [
        {
          "output_type": "stream",
          "text": [
            "Going to scrap data from page 50 \n"
          ],
          "name": "stdout"
        }
      ]
    },
    {
      "cell_type": "code",
      "metadata": {
        "id": "wqe_8vGPRi2J"
      },
      "source": [
        "#owner info\n",
        "o_inf = (soup.findAll('span',attrs = {'class' : 'seller-type'}) )\n",
        "for j in o_inf:\n",
        "  own_info.append(j.text)\n"
      ],
      "execution_count": null,
      "outputs": []
    },
    {
      "cell_type": "code",
      "metadata": {
        "id": "jDTsQCB0Ri4p"
      },
      "source": [
        "#bhk info\n",
        "b_inf = soup.findAll('div',attrs={'class':'title-line'})\n",
        "for k in b_inf:\n",
        "  b_info.append(k.strong.span.text)"
      ],
      "execution_count": null,
      "outputs": []
    },
    {
      "cell_type": "code",
      "metadata": {
        "id": "d_rOqr8HRi6n"
      },
      "source": [
        "#locality info\n",
        "loc_inf = soup.findAll('span',attrs = {'itemprop' : 'addressLocality' })\n",
        "for l in loc_inf:\n",
        "   loc_info.append(l.text)"
      ],
      "execution_count": null,
      "outputs": []
    },
    {
      "cell_type": "code",
      "metadata": {
        "id": "QXxjfVz0Ri8-"
      },
      "source": [
        "#construction status info\n",
        "con_inf = soup.findAll('td',attrs = {'class' : 'val' })\n",
        "for m in con_inf:\n",
        "   con_info.append(m.text)\n"
      ],
      "execution_count": null,
      "outputs": []
    },
    {
      "cell_type": "code",
      "metadata": {
        "id": "t8VRooqcRi_X"
      },
      "source": [
        "#area per sqft info\n",
        "area_inf = soup.findAll('td',attrs={'class' : 'size'})\n",
        "for n in area_inf:\n",
        "  area_info.append(n.text)"
      ],
      "execution_count": null,
      "outputs": []
    },
    {
      "cell_type": "code",
      "metadata": {
        "id": "f0_Ulm0ERjBb"
      },
      "source": [
        " #price info\n",
        "price_inf = soup.findAll('td',attrs={'class' : 'price'})\n",
        "for o in price_inf:\n",
        "  price_info.append(o.text)"
      ],
      "execution_count": null,
      "outputs": []
    },
    {
      "cell_type": "code",
      "metadata": {
        "id": "075w3Y3tRjDq"
      },
      "source": [
        "#rate per square feet info\n",
        "rate = soup.findAll('td',attrs={'class' : 'lbl rate'})\n",
        "for p in rate:\n",
        "  rate_psqft.append(p.text)"
      ],
      "execution_count": null,
      "outputs": []
    },
    {
      "cell_type": "code",
      "metadata": {
        "id": "6K7o8ivmUWUE",
        "colab": {
          "base_uri": "https://localhost:8080/"
        },
        "outputId": "c46d8a9d-fe6b-4944-d5dc-a770fe5522b7"
      },
      "source": [
        "print('own_info = ',len(own_info))\n",
        "print('b_info = ',len(b_info))\n",
        "print('loc_info = ',len(loc_info))\n",
        "print('con_info = ',len(con_info))\n",
        "print('area_info = ',len(area_info))\n",
        "print('price_info = ',len(price_info))\n",
        "print('rate_psqft = ',len(rate_psqft))\n"
      ],
      "execution_count": 17,
      "outputs": [
        {
          "output_type": "stream",
          "text": [
            "own_info =  20\n",
            "b_info =  20\n",
            "loc_info =  20\n",
            "con_info =  20\n",
            "area_info =  20\n",
            "price_info =  20\n",
            "rate_psqft =  20\n"
          ],
          "name": "stdout"
        }
      ]
    },
    {
      "cell_type": "code",
      "metadata": {
        "id": "KdsmauM3RjGG"
      },
      "source": [
        "#Converting data to tabular Format using Pandas\n",
        "\n",
        "data = pd.DataFrame({'Owner_info' : own_info,\n",
        "              'BHK_Info' : b_info,\n",
        "              'Price' : price_info,\n",
        "              'Locality' : loc_info,\n",
        "              'Area in Sqft' : area_info,\n",
        "               'Construction status' : con_info,\n",
        "               'Price per/sqft' : rate_psqft })"
      ],
      "execution_count": 18,
      "outputs": []
    },
    {
      "cell_type": "code",
      "metadata": {
        "id": "HAWM-7KyVU6x"
      },
      "source": [
        "data"
      ],
      "execution_count": null,
      "outputs": []
    },
    {
      "cell_type": "code",
      "metadata": {
        "id": "IN3yIYa4RjIm"
      },
      "source": [
        "data.to_csv('makaan_web2.csv')"
      ],
      "execution_count": 25,
      "outputs": []
    },
    {
      "cell_type": "code",
      "metadata": {
        "id": "jHHhvUNCRjK0"
      },
      "source": [
        ""
      ],
      "execution_count": null,
      "outputs": []
    },
    {
      "cell_type": "code",
      "metadata": {
        "id": "XFOOKeqARjMn"
      },
      "source": [
        ""
      ],
      "execution_count": null,
      "outputs": []
    },
    {
      "cell_type": "code",
      "metadata": {
        "id": "cpq-tN_nRjQI"
      },
      "source": [
        ""
      ],
      "execution_count": null,
      "outputs": []
    }
  ]
}