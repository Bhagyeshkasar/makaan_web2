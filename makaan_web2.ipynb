{
  "nbformat": 4,
  "nbformat_minor": 0,
  "metadata": {
    "colab": {
      "name": "makaan_web2.ipynb",
      "provenance": [],
      "collapsed_sections": [],
      "authorship_tag": "ABX9TyPxBybO2Uu2yycJCXJsQLxF",
      "include_colab_link": true
    },
    "kernelspec": {
      "name": "python3",
      "display_name": "Python 3"
    },
    "language_info": {
      "name": "python"
    }
  },
  "cells": [
    {
      "cell_type": "markdown",
      "metadata": {
        "id": "view-in-github",
        "colab_type": "text"
      },
      "source": [
        "<a href=\"https://colab.research.google.com/github/Bhagyeshkasar/makaan_web2/blob/main/makaan_web2.ipynb\" target=\"_parent\"><img src=\"https://colab.research.google.com/assets/colab-badge.svg\" alt=\"Open In Colab\"/></a>"
      ]
    },
    {
      "cell_type": "code",
      "metadata": {
        "id": "yHv6zPVWRgs3"
      },
      "source": [
        "import requests\n",
        "from bs4 import BeautifulSoup\n",
        "import pandas as pd\n",
        "import time\n",
        "from IPython.display import clear_output"
      ],
      "execution_count": null,
      "outputs": []
    },
    {
      "cell_type": "code",
      "metadata": {
        "id": "Ru6Vxm9zRixq"
      },
      "source": [
        "base_url = 'https://www.makaan.com/mumbai-residential-property/buy-property-in-mumbai-city?page='      #multiple pages\n",
        "own_info = []          #owner info\n",
        "b_info = []            #bhk info\n",
        "loc_info = []          #locality info\n",
        "con_info = []          #construction status info\n",
        "area_info = []         #area sqft info\n",
        "price_info = []        #price info\n",
        "rate_psqft = []        #rate per square feet\n"
      ],
      "execution_count": null,
      "outputs": []
    },
    {
      "cell_type": "code",
      "metadata": {
        "colab": {
          "base_uri": "https://localhost:8080/"
        },
        "id": "60nA5h6FRizu",
        "outputId": "f4a2d87a-e8b6-467a-a802-a5393ba6b444"
      },
      "source": [
        "for i in range(1,51):\n",
        "  time.sleep(3)\n",
        "\n",
        "  print(f'Going to scrap data from page {i} ' )\n",
        "  clear_output(wait='True')\n",
        "  url = base_url + str(i) + '&_=1624462763795'\n",
        "  req = requests.get(url)\n",
        "  soup = BeautifulSoup(req.text,'html')"
      ],
      "execution_count": null,
      "outputs": [
        {
          "output_type": "stream",
          "text": [
            "Going to scrap data from page 50 \n"
          ],
          "name": "stdout"
        }
      ]
    },
    {
      "cell_type": "code",
      "metadata": {
        "id": "wqe_8vGPRi2J"
      },
      "source": [
        "#owner info\n",
        "o_inf = (soup.findAll('span',attrs = {'class' : 'seller-type'}) )\n",
        "for j in o_inf:\n",
        "  own_info.append(j.text)\n"
      ],
      "execution_count": null,
      "outputs": []
    },
    {
      "cell_type": "code",
      "metadata": {
        "id": "jDTsQCB0Ri4p"
      },
      "source": [
        "#bhk info\n",
        "b_inf = soup.findAll('div',attrs={'class':'title-line'})\n",
        "for k in b_inf:\n",
        "  b_info.append(k.strong.span.text)"
      ],
      "execution_count": null,
      "outputs": []
    },
    {
      "cell_type": "code",
      "metadata": {
        "id": "d_rOqr8HRi6n"
      },
      "source": [
        "#locality info\n",
        "loc_inf = soup.findAll('span',attrs = {'itemprop' : 'addressLocality' })\n",
        "for l in loc_inf:\n",
        "   loc_info.append(l.text)"
      ],
      "execution_count": null,
      "outputs": []
    },
    {
      "cell_type": "code",
      "metadata": {
        "id": "QXxjfVz0Ri8-"
      },
      "source": [
        "#construction status info\n",
        "con_inf = soup.findAll('td',attrs = {'class' : 'val' })\n",
        "for m in con_inf:\n",
        "   con_info.append(m.text)\n"
      ],
      "execution_count": null,
      "outputs": []
    },
    {
      "cell_type": "code",
      "metadata": {
        "id": "t8VRooqcRi_X"
      },
      "source": [
        "#area per sqft info\n",
        "area_inf = soup.findAll('td',attrs={'class' : 'size'})\n",
        "for n in area_inf:\n",
        "  area_info.append(n.text)"
      ],
      "execution_count": null,
      "outputs": []
    },
    {
      "cell_type": "code",
      "metadata": {
        "id": "f0_Ulm0ERjBb"
      },
      "source": [
        " #price info\n",
        "price_inf = soup.findAll('td',attrs={'class' : 'price'})\n",
        "for o in price_inf:\n",
        "  price_info.append(o.text)"
      ],
      "execution_count": null,
      "outputs": []
    },
    {
      "cell_type": "code",
      "metadata": {
        "id": "075w3Y3tRjDq"
      },
      "source": [
        "#rate per square feet info\n",
        "rate = soup.findAll('td',attrs={'class' : 'lbl rate'})\n",
        "for p in rate:\n",
        "  rate_psqft.append(p.text)"
      ],
      "execution_count": null,
      "outputs": []
    },
    {
      "cell_type": "code",
      "metadata": {
        "id": "6K7o8ivmUWUE",
        "colab": {
          "base_uri": "https://localhost:8080/"
        },
        "outputId": "c46d8a9d-fe6b-4944-d5dc-a770fe5522b7"
      },
      "source": [
        "print('own_info = ',len(own_info))\n",
        "print('b_info = ',len(b_info))\n",
        "print('loc_info = ',len(loc_info))\n",
        "print('con_info = ',len(con_info))\n",
        "print('area_info = ',len(area_info))\n",
        "print('price_info = ',len(price_info))\n",
        "print('rate_psqft = ',len(rate_psqft))\n"
      ],
      "execution_count": null,
      "outputs": [
        {
          "output_type": "stream",
          "text": [
            "own_info =  20\n",
            "b_info =  20\n",
            "loc_info =  20\n",
            "con_info =  20\n",
            "area_info =  20\n",
            "price_info =  20\n",
            "rate_psqft =  20\n"
          ],
          "name": "stdout"
        }
      ]
    },
    {
      "cell_type": "code",
      "metadata": {
        "id": "KdsmauM3RjGG"
      },
      "source": [
        "#Converting data to tabular Format using Pandas\n",
        "\n",
        "data = pd.DataFrame({'Owner_info' : own_info,\n",
        "              'BHK_Info' : b_info,\n",
        "              'Price' : price_info,\n",
        "              'Locality' : loc_info,\n",
        "              'Area in Sqft' : area_info,\n",
        "               'Construction status' : con_info,\n",
        "               'Price per/sqft' : rate_psqft })"
      ],
      "execution_count": null,
      "outputs": []
    },
    {
      "cell_type": "code",
      "metadata": {
        "colab": {
          "base_uri": "https://localhost:8080/",
          "height": 665
        },
        "id": "HAWM-7KyVU6x",
        "outputId": "ef2bf8bf-5f25-487d-917b-3933b5a043c5"
      },
      "source": [
        "data"
      ],
      "execution_count": 27,
      "outputs": [
        {
          "output_type": "execute_result",
          "data": {
            "text/html": [
              "<div>\n",
              "<style scoped>\n",
              "    .dataframe tbody tr th:only-of-type {\n",
              "        vertical-align: middle;\n",
              "    }\n",
              "\n",
              "    .dataframe tbody tr th {\n",
              "        vertical-align: top;\n",
              "    }\n",
              "\n",
              "    .dataframe thead th {\n",
              "        text-align: right;\n",
              "    }\n",
              "</style>\n",
              "<table border=\"1\" class=\"dataframe\">\n",
              "  <thead>\n",
              "    <tr style=\"text-align: right;\">\n",
              "      <th></th>\n",
              "      <th>Owner_info</th>\n",
              "      <th>BHK_Info</th>\n",
              "      <th>Price</th>\n",
              "      <th>Locality</th>\n",
              "      <th>Area in Sqft</th>\n",
              "      <th>Construction status</th>\n",
              "      <th>Price per/sqft</th>\n",
              "    </tr>\n",
              "  </thead>\n",
              "  <tbody>\n",
              "    <tr>\n",
              "      <th>0</th>\n",
              "      <td>OWNER</td>\n",
              "      <td>3</td>\n",
              "      <td>3.2 Cr</td>\n",
              "      <td>Thane West</td>\n",
              "      <td>1600</td>\n",
              "      <td>Ready to move</td>\n",
              "      <td>20,000 / sq ft</td>\n",
              "    </tr>\n",
              "    <tr>\n",
              "      <th>1</th>\n",
              "      <td>OWNER</td>\n",
              "      <td>3</td>\n",
              "      <td>3.25 Cr</td>\n",
              "      <td>Vartak Nagar</td>\n",
              "      <td>1600</td>\n",
              "      <td>Ready to move</td>\n",
              "      <td>20,312 / sq ft</td>\n",
              "    </tr>\n",
              "    <tr>\n",
              "      <th>2</th>\n",
              "      <td>OWNER</td>\n",
              "      <td>3</td>\n",
              "      <td>3.2 Cr</td>\n",
              "      <td>Vartak Nagar</td>\n",
              "      <td>1600</td>\n",
              "      <td>Ready to move</td>\n",
              "      <td>20,000 / sq ft</td>\n",
              "    </tr>\n",
              "    <tr>\n",
              "      <th>3</th>\n",
              "      <td>OWNER</td>\n",
              "      <td>1</td>\n",
              "      <td>65 L</td>\n",
              "      <td>Borivali West</td>\n",
              "      <td>425</td>\n",
              "      <td>Ready to move</td>\n",
              "      <td>15,294 / sq ft</td>\n",
              "    </tr>\n",
              "    <tr>\n",
              "      <th>4</th>\n",
              "      <td>OWNER</td>\n",
              "      <td>1</td>\n",
              "      <td>28.5 L</td>\n",
              "      <td>Dombivali East</td>\n",
              "      <td>420</td>\n",
              "      <td>Ready to move</td>\n",
              "      <td>6,785 / sq ft</td>\n",
              "    </tr>\n",
              "    <tr>\n",
              "      <th>5</th>\n",
              "      <td>OWNER</td>\n",
              "      <td>1</td>\n",
              "      <td>31.5 L</td>\n",
              "      <td>Belapur</td>\n",
              "      <td>505</td>\n",
              "      <td>Ready to move</td>\n",
              "      <td>6,237 / sq ft</td>\n",
              "    </tr>\n",
              "    <tr>\n",
              "      <th>6</th>\n",
              "      <td>OWNER</td>\n",
              "      <td>1</td>\n",
              "      <td>85 L</td>\n",
              "      <td>Bhandup West</td>\n",
              "      <td>590</td>\n",
              "      <td>Ready to move</td>\n",
              "      <td>14,406 / sq ft</td>\n",
              "    </tr>\n",
              "    <tr>\n",
              "      <th>7</th>\n",
              "      <td>OWNER</td>\n",
              "      <td>3</td>\n",
              "      <td>1.45 Cr</td>\n",
              "      <td>Kalamboli</td>\n",
              "      <td>1975</td>\n",
              "      <td>Ready to move</td>\n",
              "      <td>7,341 / sq ft</td>\n",
              "    </tr>\n",
              "    <tr>\n",
              "      <th>8</th>\n",
              "      <td>OWNER</td>\n",
              "      <td>2</td>\n",
              "      <td>45 L</td>\n",
              "      <td>Ambernath East</td>\n",
              "      <td>985</td>\n",
              "      <td>Ready to move</td>\n",
              "      <td>4,568 / sq ft</td>\n",
              "    </tr>\n",
              "    <tr>\n",
              "      <th>9</th>\n",
              "      <td>OWNER</td>\n",
              "      <td>1</td>\n",
              "      <td>75 L</td>\n",
              "      <td>Mulund West</td>\n",
              "      <td>330</td>\n",
              "      <td>Ready to move</td>\n",
              "      <td>22,727 / sq ft</td>\n",
              "    </tr>\n",
              "    <tr>\n",
              "      <th>10</th>\n",
              "      <td>OWNER</td>\n",
              "      <td>2</td>\n",
              "      <td>2 Cr</td>\n",
              "      <td>Goregaon West</td>\n",
              "      <td>1000</td>\n",
              "      <td>Ready to move</td>\n",
              "      <td>20,000 / sq ft</td>\n",
              "    </tr>\n",
              "    <tr>\n",
              "      <th>11</th>\n",
              "      <td>OWNER</td>\n",
              "      <td>2</td>\n",
              "      <td>1.4 Cr</td>\n",
              "      <td>Goregaon West</td>\n",
              "      <td>1800</td>\n",
              "      <td>Ready to move</td>\n",
              "      <td>7,777 / sq ft</td>\n",
              "    </tr>\n",
              "    <tr>\n",
              "      <th>12</th>\n",
              "      <td>OWNER</td>\n",
              "      <td>2</td>\n",
              "      <td>1.7 Cr</td>\n",
              "      <td>Girgaon</td>\n",
              "      <td>935</td>\n",
              "      <td>Ready to move</td>\n",
              "      <td>18,181 / sq ft</td>\n",
              "    </tr>\n",
              "    <tr>\n",
              "      <th>13</th>\n",
              "      <td>OWNER</td>\n",
              "      <td>1</td>\n",
              "      <td>90 L</td>\n",
              "      <td>Bhuleshwar</td>\n",
              "      <td>330</td>\n",
              "      <td>Ready to move</td>\n",
              "      <td>27,272 / sq ft</td>\n",
              "    </tr>\n",
              "    <tr>\n",
              "      <th>14</th>\n",
              "      <td>OWNER</td>\n",
              "      <td>2</td>\n",
              "      <td>1.2 Cr</td>\n",
              "      <td>Bhandup West</td>\n",
              "      <td>510</td>\n",
              "      <td>Ready to move</td>\n",
              "      <td>23,529 / sq ft</td>\n",
              "    </tr>\n",
              "    <tr>\n",
              "      <th>15</th>\n",
              "      <td>OWNER</td>\n",
              "      <td>2</td>\n",
              "      <td>2.5 Cr</td>\n",
              "      <td>Santacruz East</td>\n",
              "      <td>900</td>\n",
              "      <td>Ready to move</td>\n",
              "      <td>27,777 / sq ft</td>\n",
              "    </tr>\n",
              "    <tr>\n",
              "      <th>16</th>\n",
              "      <td>OWNER</td>\n",
              "      <td>1</td>\n",
              "      <td>78 L</td>\n",
              "      <td>Mazgaon</td>\n",
              "      <td>200</td>\n",
              "      <td>Ready to move</td>\n",
              "      <td>39,000 / sq ft</td>\n",
              "    </tr>\n",
              "    <tr>\n",
              "      <th>17</th>\n",
              "      <td>OWNER</td>\n",
              "      <td>1</td>\n",
              "      <td>64 L</td>\n",
              "      <td>Thane West</td>\n",
              "      <td>575</td>\n",
              "      <td>Ready to move</td>\n",
              "      <td>11,130 / sq ft</td>\n",
              "    </tr>\n",
              "    <tr>\n",
              "      <th>18</th>\n",
              "      <td>OWNER</td>\n",
              "      <td>1</td>\n",
              "      <td>1.1 Cr</td>\n",
              "      <td>Jogeshwari East</td>\n",
              "      <td>565</td>\n",
              "      <td>Ready to move</td>\n",
              "      <td>19,469 / sq ft</td>\n",
              "    </tr>\n",
              "    <tr>\n",
              "      <th>19</th>\n",
              "      <td>OWNER</td>\n",
              "      <td>1</td>\n",
              "      <td>45 L</td>\n",
              "      <td>Santacruz East</td>\n",
              "      <td>308</td>\n",
              "      <td>Ready to move</td>\n",
              "      <td>14,610 / sq ft</td>\n",
              "    </tr>\n",
              "  </tbody>\n",
              "</table>\n",
              "</div>"
            ],
            "text/plain": [
              "   Owner_info BHK_Info  ... Construction status  Price per/sqft\n",
              "0       OWNER       3   ...       Ready to move  20,000 / sq ft\n",
              "1       OWNER       3   ...       Ready to move  20,312 / sq ft\n",
              "2       OWNER       3   ...       Ready to move  20,000 / sq ft\n",
              "3       OWNER       1   ...       Ready to move  15,294 / sq ft\n",
              "4       OWNER       1   ...       Ready to move   6,785 / sq ft\n",
              "5       OWNER       1   ...       Ready to move   6,237 / sq ft\n",
              "6       OWNER       1   ...       Ready to move  14,406 / sq ft\n",
              "7       OWNER       3   ...       Ready to move   7,341 / sq ft\n",
              "8       OWNER       2   ...       Ready to move   4,568 / sq ft\n",
              "9       OWNER       1   ...       Ready to move  22,727 / sq ft\n",
              "10      OWNER       2   ...       Ready to move  20,000 / sq ft\n",
              "11      OWNER       2   ...       Ready to move   7,777 / sq ft\n",
              "12      OWNER       2   ...       Ready to move  18,181 / sq ft\n",
              "13      OWNER       1   ...       Ready to move  27,272 / sq ft\n",
              "14      OWNER       2   ...       Ready to move  23,529 / sq ft\n",
              "15      OWNER       2   ...       Ready to move  27,777 / sq ft\n",
              "16      OWNER       1   ...       Ready to move  39,000 / sq ft\n",
              "17      OWNER       1   ...       Ready to move  11,130 / sq ft\n",
              "18      OWNER       1   ...       Ready to move  19,469 / sq ft\n",
              "19      OWNER       1   ...       Ready to move  14,610 / sq ft\n",
              "\n",
              "[20 rows x 7 columns]"
            ]
          },
          "metadata": {
            "tags": []
          },
          "execution_count": 27
        }
      ]
    },
    {
      "cell_type": "code",
      "metadata": {
        "id": "IN3yIYa4RjIm"
      },
      "source": [
        "data.to_csv('makaan_web2.csv')"
      ],
      "execution_count": null,
      "outputs": []
    },
    {
      "cell_type": "code",
      "metadata": {
        "id": "jHHhvUNCRjK0"
      },
      "source": [
        ""
      ],
      "execution_count": null,
      "outputs": []
    },
    {
      "cell_type": "code",
      "metadata": {
        "id": "XFOOKeqARjMn"
      },
      "source": [
        ""
      ],
      "execution_count": null,
      "outputs": []
    },
    {
      "cell_type": "code",
      "metadata": {
        "id": "cpq-tN_nRjQI"
      },
      "source": [
        ""
      ],
      "execution_count": null,
      "outputs": []
    }
  ]
}